{
 "cells": [
  {
   "cell_type": "code",
   "execution_count": 60,
   "id": "d7ead466-dbe9-4f18-b541-f07c43b56e1d",
   "metadata": {},
   "outputs": [],
   "source": [
    "corpus_of_documents=[\n",
    "    \"His dog barks loudly\",\n",
    "\"My school starts at 8:00.\",\n",
    "\"We always eat dinner together.\",\n",
    "\"They take the bus to work.\",\n",
    "\"He doesn’t like vegetables.\",\n",
    "\"I don’t want anything to drink.\",\n",
    "\"This little black dress isn’t expensive.\",\n",
    "\"Those kids don’t speak English.\",\n",
    "    \"I live in JAPAN\",\n",
    "    \"I live in india from state of orissa\"\n",
    "]"
   ]
  },
  {
   "cell_type": "code",
   "execution_count": 61,
   "id": "a1cdf6dc-cbce-4dd5-a496-d24666557f45",
   "metadata": {},
   "outputs": [
    {
     "data": {
      "text/plain": [
       "['His dog barks loudly',\n",
       " 'My school starts at 8:00.',\n",
       " 'We always eat dinner together.',\n",
       " 'They take the bus to work.',\n",
       " 'He doesn’t like vegetables.',\n",
       " 'I don’t want anything to drink.',\n",
       " 'This little black dress isn’t expensive.',\n",
       " 'Those kids don’t speak English.',\n",
       " 'I live in JAPAN',\n",
       " 'I live in india from state of orissa']"
      ]
     },
     "execution_count": 61,
     "metadata": {},
     "output_type": "execute_result"
    }
   ],
   "source": [
    "corpus_of_documents"
   ]
  },
  {
   "cell_type": "code",
   "execution_count": 62,
   "id": "96121607-6856-4a40-b8eb-fae8bb979d5a",
   "metadata": {},
   "outputs": [],
   "source": [
    "# convert into embeddings coverting into numerical representation."
   ]
  },
  {
   "cell_type": "code",
   "execution_count": 63,
   "id": "290546e8-b23f-40b0-af8d-3d27b6462d34",
   "metadata": {},
   "outputs": [],
   "source": [
    "user_query = \"I am an indians and i live in india.\""
   ]
  },
  {
   "cell_type": "code",
   "execution_count": 64,
   "id": "5c5068c2-d05c-4246-9708-f0a93059ffd0",
   "metadata": {},
   "outputs": [],
   "source": [
    "document = \"india is a country for the indians and for everyone.\""
   ]
  },
  {
   "cell_type": "code",
   "execution_count": 66,
   "id": "372c2f71-db40-4965-bcfd-963b42694ea6",
   "metadata": {},
   "outputs": [],
   "source": [
    "from collections import Counter \n",
    "import math"
   ]
  },
  {
   "cell_type": "code",
   "execution_count": 67,
   "id": "2bd806f2-7fe1-4e59-9645-e9519be354c5",
   "metadata": {},
   "outputs": [
    {
     "data": {
      "text/plain": [
       "['i', 'am', 'an', 'indians', 'and', 'i', 'live', 'in', 'india.']"
      ]
     },
     "execution_count": 67,
     "metadata": {},
     "output_type": "execute_result"
    }
   ],
   "source": [
    "query_tokens=user_query.lower().split(\" \")\n",
    "query_tokens"
   ]
  },
  {
   "cell_type": "code",
   "execution_count": 68,
   "id": "8e266fd4-343a-4624-b9ab-c292c3146502",
   "metadata": {
    "scrolled": true
   },
   "outputs": [
    {
     "data": {
      "text/plain": [
       "['india',\n",
       " 'is',\n",
       " 'a',\n",
       " 'country',\n",
       " 'for',\n",
       " 'the',\n",
       " 'indians',\n",
       " 'and',\n",
       " 'for',\n",
       " 'everyone.']"
      ]
     },
     "execution_count": 68,
     "metadata": {},
     "output_type": "execute_result"
    }
   ],
   "source": [
    "document_tokens=document.lower().split(\" \")\n",
    "document_tokens"
   ]
  },
  {
   "cell_type": "code",
   "execution_count": 69,
   "id": "15deff25-6dee-45eb-a4f3-3ed988729c57",
   "metadata": {
    "jupyter": {
     "source_hidden": true
    }
   },
   "outputs": [],
   "source": [
    "query_counter=Counter(query_tokens)"
   ]
  },
  {
   "cell_type": "code",
   "execution_count": 70,
   "id": "ca041b98-15ad-4767-96b5-a8114751683f",
   "metadata": {},
   "outputs": [
    {
     "name": "stdout",
     "output_type": "stream",
     "text": [
      "Counter({'for': 2, 'india': 1, 'is': 1, 'a': 1, 'country': 1, 'the': 1, 'indians': 1, 'and': 1, 'everyone.': 1})\n"
     ]
    }
   ],
   "source": [
    "document_counter=Counter(document_tokens)\n",
    "type(document_counter)\n",
    "print(document_counter)"
   ]
  },
  {
   "cell_type": "code",
   "execution_count": 71,
   "id": "0b8c2e72-693e-4620-a84f-d44c1b8829da",
   "metadata": {},
   "outputs": [
    {
     "data": {
      "text/plain": [
       "[2, 1, 1, 1, 1, 1, 1, 1]"
      ]
     },
     "execution_count": 71,
     "metadata": {},
     "output_type": "execute_result"
    }
   ],
   "source": [
    "lst=[]\n",
    "for token in query_counter.keys():\n",
    "    lst.append(query_counter[token])\n",
    "    \n",
    "lst    \n",
    "    "
   ]
  },
  {
   "cell_type": "code",
   "execution_count": 44,
   "id": "dc6a0609-12d6-41d9-b488-a310ba8bc51c",
   "metadata": {},
   "outputs": [
    {
     "data": {
      "text/plain": [
       "[2, 1, 1, 1, 1, 1, 1, 1]"
      ]
     },
     "execution_count": 44,
     "metadata": {},
     "output_type": "execute_result"
    }
   ],
   "source": [
    "lst #sentence vector  for user_query"
   ]
  },
  {
   "cell_type": "code",
   "execution_count": 45,
   "id": "4f4e26c5",
   "metadata": {},
   "outputs": [
    {
     "data": {
      "text/plain": [
       "[1, 1, 1, 1, 2, 1, 1, 1, 1]"
      ]
     },
     "execution_count": 45,
     "metadata": {},
     "output_type": "execute_result"
    }
   ],
   "source": [
    "S_2=[]\n",
    "for key in document_counter.keys():\n",
    "    S_2.append(document_counter[key])\n",
    "    \n",
    "S_2    "
   ]
  },
  {
   "cell_type": "code",
   "execution_count": 46,
   "id": "9d5a81f4",
   "metadata": {},
   "outputs": [
    {
     "name": "stdout",
     "output_type": "stream",
     "text": [
      "indians\n",
      "and\n"
     ]
    }
   ],
   "source": [
    "#word label similarity\n",
    "for tokens in query_counter.keys() & document_counter.keys():\n",
    "    print(tokens)\n",
    "    "
   ]
  },
  {
   "cell_type": "code",
   "execution_count": 49,
   "id": "25bda553",
   "metadata": {},
   "outputs": [
    {
     "data": {
      "text/plain": [
       "[1, 1]"
      ]
     },
     "execution_count": 49,
     "metadata": {},
     "output_type": "execute_result"
    }
   ],
   "source": [
    "mylist=[]\n",
    "for tokens in query_counter.keys() & document_counter.keys():\n",
    "    mylist.append(query_counter[tokens]*document_counter[tokens])\n",
    "    \n",
    "mylist    "
   ]
  },
  {
   "cell_type": "code",
   "execution_count": 75,
   "id": "237d8b49",
   "metadata": {},
   "outputs": [
    {
     "data": {
      "text/plain": [
       "2"
      ]
     },
     "execution_count": 75,
     "metadata": {},
     "output_type": "execute_result"
    }
   ],
   "source": [
    "dotprod=sum(mylist)\n",
    "dotprod"
   ]
  },
  {
   "cell_type": "code",
   "execution_count": 52,
   "id": "e1c99025",
   "metadata": {},
   "outputs": [],
   "source": [
    "query_magnitude_=math.sqrt(sum(query_counter[token]**2 for token in query_counter))"
   ]
  },
  {
   "cell_type": "code",
   "execution_count": 53,
   "id": "829c41cd",
   "metadata": {},
   "outputs": [
    {
     "data": {
      "text/plain": [
       "3.3166247903554"
      ]
     },
     "execution_count": 53,
     "metadata": {},
     "output_type": "execute_result"
    }
   ],
   "source": [
    "query_magnitude_"
   ]
  },
  {
   "cell_type": "code",
   "execution_count": 59,
   "id": "2ec54787",
   "metadata": {},
   "outputs": [
    {
     "data": {
      "text/plain": [
       "3.4641016151377544"
      ]
     },
     "execution_count": 59,
     "metadata": {},
     "output_type": "execute_result"
    }
   ],
   "source": [
    "document_counter"
   ]
  },
  {
   "cell_type": "code",
   "execution_count": 72,
   "id": "256f8b46",
   "metadata": {},
   "outputs": [],
   "source": [
    "document_magnitude_=math.sqrt(sum(document_counter[token]**2 for token in document_counter))"
   ]
  },
  {
   "cell_type": "code",
   "execution_count": 73,
   "id": "e5ad67c8",
   "metadata": {},
   "outputs": [
    {
     "data": {
      "text/plain": [
       "3.4641016151377544"
      ]
     },
     "execution_count": 73,
     "metadata": {},
     "output_type": "execute_result"
    }
   ],
   "source": [
    "document_magnitude_\n"
   ]
  },
  {
   "cell_type": "code",
   "execution_count": 77,
   "id": "aa2c942b",
   "metadata": {},
   "outputs": [
    {
     "data": {
      "text/plain": [
       "0.17407765595569785"
      ]
     },
     "execution_count": 77,
     "metadata": {},
     "output_type": "execute_result"
    }
   ],
   "source": [
    "similarity=dotprod/(query_magnitude_*document_magnitude_)\n",
    "similarity"
   ]
  },
  {
   "cell_type": "code",
   "execution_count": 80,
   "id": "34583d3d",
   "metadata": {},
   "outputs": [
    {
     "data": {
      "text/plain": [
       "0.5039526306789696"
      ]
     },
     "execution_count": 80,
     "metadata": {},
     "output_type": "execute_result"
    }
   ],
   "source": [
    "user_query=\" is yoga good for health \"\n",
    "document=\"yoga is very good for healthy lifestyle.\"\n",
    "mag=cosine_similarity(user_query,document)\n",
    "mag"
   ]
  },
  {
   "cell_type": "code",
   "execution_count": 79,
   "id": "b2bfbdfe",
   "metadata": {},
   "outputs": [],
   "source": [
    "def cosine_similarity(query,document):\n",
    "    query_tokens=query.lower().split(\" \")   \n",
    "    document_tokens=document.lower().split(\" \")\n",
    "    query_counter=Counter(query_tokens)\n",
    "    document_counter=Counter(document_tokens)\n",
    "    mylist=[]\n",
    "    for tokens in query_counter.keys() & document_counter.keys():\n",
    "        mylist.append(query_counter[tokens]*document_counter[tokens])\n",
    "    dotprod=sum(mylist)\n",
    "    query_magnitude_=math.sqrt(sum(query_counter[token]**2 for token in query_counter))\n",
    "    document_magnitude_=math.sqrt(sum(document_counter[token]**2 for token in document_counter))\n",
    "    similarity=dotprod/(query_magnitude_*document_magnitude_)\n",
    "    return similarity"
   ]
  },
  {
   "cell_type": "code",
   "execution_count": 89,
   "id": "5a586997",
   "metadata": {},
   "outputs": [
    {
     "data": {
      "text/plain": [
       "0.16903085094570328"
      ]
     },
     "execution_count": 89,
     "metadata": {},
     "output_type": "execute_result"
    }
   ],
   "source": [
    "user_query=\"hi my name is debapriya\"\n",
    "documents=\"my name is abhishek\"\n",
    "mag=cosine_similarity(user_query,document)\n",
    "mag\n"
   ]
  },
  {
   "cell_type": "code",
   "execution_count": 90,
   "id": "17637a2e",
   "metadata": {},
   "outputs": [],
   "source": [
    "query_counter=Counter(user_query)\n",
    "document_counter=Counter(document)"
   ]
  },
  {
   "cell_type": "code",
   "execution_count": 93,
   "id": "159ac1b9",
   "metadata": {},
   "outputs": [],
   "source": [
    "query=\"The cat sat quietly on the windowsill, watching the birds outside.\"\n",
    "document=\"The cat perched silently on the windowsill, observing the birds flying by.\""
   ]
  },
  {
   "cell_type": "code",
   "execution_count": 95,
   "id": "b1438f1f",
   "metadata": {},
   "outputs": [],
   "source": [
    "query_tokens=query.lower().split(\" \")\n",
    "document_token= document.lower().split(\" \")"
   ]
  },
  {
   "cell_type": "code",
   "execution_count": 96,
   "id": "af18af45",
   "metadata": {},
   "outputs": [],
   "source": [
    "query_counter=Counter(query_tokens)\n",
    "document_counter=Counter(document_token)"
   ]
  },
  {
   "cell_type": "code",
   "execution_count": 98,
   "id": "d32bc7f4",
   "metadata": {},
   "outputs": [
    {
     "data": {
      "text/plain": [
       "[1, 1, 1, 9, 1]"
      ]
     },
     "execution_count": 98,
     "metadata": {},
     "output_type": "execute_result"
    }
   ],
   "source": [
    "my_list=[]\n",
    "for tokens in query_counter.keys() & document_counter.keys():\n",
    "    my_list.append(query_counter[tokens]*document_counter[tokens])\n",
    "\n",
    "my_list\n"
   ]
  },
  {
   "cell_type": "code",
   "execution_count": null,
   "id": "69b0dbc3",
   "metadata": {},
   "outputs": [],
   "source": []
  }
 ],
 "metadata": {
  "kernelspec": {
   "display_name": "Python 3 (ipykernel)",
   "language": "python",
   "name": "python3"
  },
  "language_info": {
   "codemirror_mode": {
    "name": "ipython",
    "version": 3
   },
   "file_extension": ".py",
   "mimetype": "text/x-python",
   "name": "python",
   "nbconvert_exporter": "python",
   "pygments_lexer": "ipython3",
   "version": "3.12.1"
  }
 },
 "nbformat": 4,
 "nbformat_minor": 5
}
